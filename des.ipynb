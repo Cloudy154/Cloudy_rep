{
 "cells": [
  {
   "cell_type": "code",
   "execution_count": 11,
   "id": "182a472a",
   "metadata": {},
   "outputs": [],
   "source": [
    "import des2 "
   ]
  },
  {
   "cell_type": "code",
   "execution_count": 14,
   "id": "aba745b5",
   "metadata": {},
   "outputs": [
    {
     "name": "stdout",
     "output_type": "stream",
     "text": [
      "Ваш алгоритм угадывает число в среднем за: 101 попыток\n"
     ]
    },
    {
     "data": {
      "text/plain": [
       "101"
      ]
     },
     "execution_count": 14,
     "metadata": {},
     "output_type": "execute_result"
    }
   ],
   "source": [
    "des2.score_game(des2.random_predict)"
   ]
  },
  {
   "cell_type": "markdown",
   "id": "c1223eb2",
   "metadata": {},
   "source": [
    "# **Head**\n",
    "## *Head*\n",
    "### **Head**"
   ]
  },
  {
   "cell_type": "code",
   "execution_count": 16,
   "id": "619c2ef3",
   "metadata": {},
   "outputs": [
    {
     "name": "stdout",
     "output_type": "stream",
     "text": [
      "Ваш алгоритм угадывает число в среднем за: 101 попыток\n"
     ]
    },
    {
     "data": {
      "text/plain": [
       "101"
      ]
     },
     "execution_count": 16,
     "metadata": {},
     "output_type": "execute_result"
    }
   ],
   "source": [
    "from des2 import score_game\n",
    "from des2 import random_predict\n",
    "score_game(random_predict) #вызов функции"
   ]
  },
  {
   "cell_type": "code",
   "execution_count": 17,
   "id": "74e719e0",
   "metadata": {},
   "outputs": [],
   "source": [
    "n = 10\n",
    "z = n\n",
    "n = 5\n",
    "b = n"
   ]
  }
 ],
 "metadata": {
  "kernelspec": {
   "display_name": "Python 3",
   "language": "python",
   "name": "python3"
  },
  "language_info": {
   "codemirror_mode": {
    "name": "ipython",
    "version": 3
   },
   "file_extension": ".py",
   "mimetype": "text/x-python",
   "name": "python",
   "nbconvert_exporter": "python",
   "pygments_lexer": "ipython3",
   "version": "3.13.5"
  }
 },
 "nbformat": 4,
 "nbformat_minor": 5
}
